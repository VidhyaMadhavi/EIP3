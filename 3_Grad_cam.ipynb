{
  "nbformat": 4,
  "nbformat_minor": 0,
  "metadata": {
    "colab": {
      "name": "3_Grad_cam.ipynb",
      "version": "0.3.2",
      "provenance": [],
      "collapsed_sections": []
    },
    "kernelspec": {
      "name": "python3",
      "display_name": "Python 3"
    },
    "accelerator": "GPU"
  },
  "cells": [
    {
      "cell_type": "markdown",
      "metadata": {
        "id": "rOaymAxcUsaq",
        "colab_type": "text"
      },
      "source": [
        "# GRAD-CAM"
      ]
    },
    {
      "cell_type": "code",
      "metadata": {
        "id": "rh--5iceQgvn",
        "colab_type": "code",
        "colab": {
          "base_uri": "https://localhost:8080/",
          "height": 125
        },
        "outputId": "3d2690d3-9506-475e-e0ea-d5303e61f12b"
      },
      "source": [
        "from google.colab import drive\n",
        "drive.mount('/content/drive')\n",
        "\n",
        "import os\n",
        "os.chdir('/content/drive/My Drive/EIP3.0')"
      ],
      "execution_count": 1,
      "outputs": [
        {
          "output_type": "stream",
          "text": [
            "Go to this URL in a browser: https://accounts.google.com/o/oauth2/auth?client_id=947318989803-6bn6qk8qdgf4n4g3pfee6491hc0brc4i.apps.googleusercontent.com&redirect_uri=urn%3Aietf%3Awg%3Aoauth%3A2.0%3Aoob&scope=email%20https%3A%2F%2Fwww.googleapis.com%2Fauth%2Fdocs.test%20https%3A%2F%2Fwww.googleapis.com%2Fauth%2Fdrive%20https%3A%2F%2Fwww.googleapis.com%2Fauth%2Fdrive.photos.readonly%20https%3A%2F%2Fwww.googleapis.com%2Fauth%2Fpeopleapi.readonly&response_type=code\n",
            "\n",
            "Enter your authorization code:\n",
            "··········\n",
            "Mounted at /content/drive\n"
          ],
          "name": "stdout"
        }
      ]
    },
    {
      "cell_type": "code",
      "metadata": {
        "id": "uPIL2638Qpqe",
        "colab_type": "code",
        "colab": {
          "base_uri": "https://localhost:8080/",
          "height": 570
        },
        "outputId": "c944848d-6780-4ef4-a999-42041993f0c6"
      },
      "source": [
        "!pip install image-classifiers\n",
        "!pip install git+https://github.com/qubvel/classification_models.git"
      ],
      "execution_count": 2,
      "outputs": [
        {
          "output_type": "stream",
          "text": [
            "Collecting image-classifiers\n",
            "\u001b[?25l  Downloading https://files.pythonhosted.org/packages/8d/7f/31234ee4bc8243f9e8b59b827e8a61436d7269cf75936b0aecc48a08f06c/image_classifiers-0.2.2-py2.py3-none-any.whl (72kB)\n",
            "\u001b[K     |████████████████████████████████| 81kB 3.9MB/s \n",
            "\u001b[?25hRequirement already satisfied: keras>=2.1.0 in /usr/local/lib/python3.6/dist-packages (from image-classifiers) (2.2.4)\n",
            "Requirement already satisfied: scipy>=0.14 in /usr/local/lib/python3.6/dist-packages (from keras>=2.1.0->image-classifiers) (1.3.0)\n",
            "Requirement already satisfied: h5py in /usr/local/lib/python3.6/dist-packages (from keras>=2.1.0->image-classifiers) (2.8.0)\n",
            "Requirement already satisfied: numpy>=1.9.1 in /usr/local/lib/python3.6/dist-packages (from keras>=2.1.0->image-classifiers) (1.16.4)\n",
            "Requirement already satisfied: six>=1.9.0 in /usr/local/lib/python3.6/dist-packages (from keras>=2.1.0->image-classifiers) (1.12.0)\n",
            "Requirement already satisfied: keras-preprocessing>=1.0.5 in /usr/local/lib/python3.6/dist-packages (from keras>=2.1.0->image-classifiers) (1.1.0)\n",
            "Requirement already satisfied: keras-applications>=1.0.6 in /usr/local/lib/python3.6/dist-packages (from keras>=2.1.0->image-classifiers) (1.0.8)\n",
            "Requirement already satisfied: pyyaml in /usr/local/lib/python3.6/dist-packages (from keras>=2.1.0->image-classifiers) (3.13)\n",
            "Installing collected packages: image-classifiers\n",
            "Successfully installed image-classifiers-0.2.2\n",
            "Collecting git+https://github.com/qubvel/classification_models.git\n",
            "  Cloning https://github.com/qubvel/classification_models.git to /tmp/pip-req-build-fmtn7_p5\n",
            "  Running command git clone -q https://github.com/qubvel/classification_models.git /tmp/pip-req-build-fmtn7_p5\n",
            "  Running command git submodule update --init --recursive -q\n",
            "Requirement already satisfied (use --upgrade to upgrade): image-classifiers==0.2.2 from git+https://github.com/qubvel/classification_models.git in /usr/local/lib/python3.6/dist-packages\n",
            "Requirement already satisfied: keras>=2.1.0 in /usr/local/lib/python3.6/dist-packages (from image-classifiers==0.2.2) (2.2.4)\n",
            "Requirement already satisfied: pyyaml in /usr/local/lib/python3.6/dist-packages (from keras>=2.1.0->image-classifiers==0.2.2) (3.13)\n",
            "Requirement already satisfied: keras-preprocessing>=1.0.5 in /usr/local/lib/python3.6/dist-packages (from keras>=2.1.0->image-classifiers==0.2.2) (1.1.0)\n",
            "Requirement already satisfied: six>=1.9.0 in /usr/local/lib/python3.6/dist-packages (from keras>=2.1.0->image-classifiers==0.2.2) (1.12.0)\n",
            "Requirement already satisfied: scipy>=0.14 in /usr/local/lib/python3.6/dist-packages (from keras>=2.1.0->image-classifiers==0.2.2) (1.3.0)\n",
            "Requirement already satisfied: numpy>=1.9.1 in /usr/local/lib/python3.6/dist-packages (from keras>=2.1.0->image-classifiers==0.2.2) (1.16.4)\n",
            "Requirement already satisfied: h5py in /usr/local/lib/python3.6/dist-packages (from keras>=2.1.0->image-classifiers==0.2.2) (2.8.0)\n",
            "Requirement already satisfied: keras-applications>=1.0.6 in /usr/local/lib/python3.6/dist-packages (from keras>=2.1.0->image-classifiers==0.2.2) (1.0.8)\n",
            "Building wheels for collected packages: image-classifiers\n",
            "  Building wheel for image-classifiers (setup.py) ... \u001b[?25l\u001b[?25hdone\n",
            "  Stored in directory: /tmp/pip-ephem-wheel-cache-8fe2np69/wheels/de/2b/fd/29a6d33edb8c28bc7d94e95ea1d39c9a218ac500a3cfb1b197\n",
            "Successfully built image-classifiers\n"
          ],
          "name": "stdout"
        }
      ]
    },
    {
      "cell_type": "code",
      "metadata": {
        "id": "07tcMPtNXaGt",
        "colab_type": "code",
        "colab": {
          "base_uri": "https://localhost:8080/",
          "height": 34
        },
        "outputId": "c1227340-90f9-48d8-c62d-5b657e12b391"
      },
      "source": [
        "from __future__ import print_function\n",
        "import keras\n",
        "from keras.layers import Dense, Conv2D, BatchNormalization, Activation\n",
        "from keras.layers import AveragePooling2D, Input, Flatten\n",
        "from keras.optimizers import Adam\n",
        "from keras.callbacks import ModelCheckpoint, LearningRateScheduler\n",
        "from keras.callbacks import ReduceLROnPlateau\n",
        "from keras.preprocessing.image import ImageDataGenerator\n",
        "from keras.regularizers import l2\n",
        "from keras import backend as K\n",
        "from keras.models import Model\n",
        "from keras.datasets import cifar10\n",
        "import numpy as np\n",
        "import os\n",
        "import keras\n",
        "from keras.datasets import cifar10\n",
        "from keras.models import Model, Sequential\n",
        "from keras.layers import Dense, Dropout, Flatten, Input, AveragePooling2D, merge, Activation, GlobalAveragePooling2D\n",
        "from keras.layers import Conv2D, MaxPooling2D, BatchNormalization\n",
        "from keras.layers import Concatenate\n",
        "from keras.optimizers import Adam\n",
        "from keras.callbacks import ModelCheckpoint\n",
        "from keras import regularizers\n",
        "\n",
        "import keras.backend as K\n",
        "from keras.regularizers import l2\n",
        "import numpy as np"
      ],
      "execution_count": 3,
      "outputs": [
        {
          "output_type": "stream",
          "text": [
            "Using TensorFlow backend.\n"
          ],
          "name": "stderr"
        }
      ]
    },
    {
      "cell_type": "code",
      "metadata": {
        "id": "rJAwC8ueXeRn",
        "colab_type": "code",
        "colab": {
          "base_uri": "https://localhost:8080/",
          "height": 338
        },
        "outputId": "e1c0b385-e1e5-4ca6-9fe5-1156c8816c04"
      },
      "source": [
        "from classification_models.resnet import ResNet18, preprocess_input\n",
        "\n",
        "model = ResNet18((224, 224, 3), weights='imagenet')"
      ],
      "execution_count": 4,
      "outputs": [
        {
          "output_type": "stream",
          "text": [
            "WARNING: Logging before flag parsing goes to stderr.\n",
            "W0712 17:03:18.595252 140617974888320 deprecation_wrapper.py:119] From /usr/local/lib/python3.6/dist-packages/keras/backend/tensorflow_backend.py:517: The name tf.placeholder is deprecated. Please use tf.compat.v1.placeholder instead.\n",
            "\n",
            "W0712 17:03:18.649567 140617974888320 deprecation_wrapper.py:119] From /usr/local/lib/python3.6/dist-packages/keras/backend/tensorflow_backend.py:245: The name tf.get_default_graph is deprecated. Please use tf.compat.v1.get_default_graph instead.\n",
            "\n",
            "W0712 17:03:18.650545 140617974888320 deprecation_wrapper.py:119] From /usr/local/lib/python3.6/dist-packages/keras/backend/tensorflow_backend.py:174: The name tf.get_default_session is deprecated. Please use tf.compat.v1.get_default_session instead.\n",
            "\n",
            "W0712 17:03:18.652858 140617974888320 deprecation_wrapper.py:119] From /usr/local/lib/python3.6/dist-packages/keras/backend/tensorflow_backend.py:181: The name tf.ConfigProto is deprecated. Please use tf.compat.v1.ConfigProto instead.\n",
            "\n",
            "W0712 17:03:18.655673 140617974888320 deprecation_wrapper.py:119] From /usr/local/lib/python3.6/dist-packages/keras/backend/tensorflow_backend.py:186: The name tf.Session is deprecated. Please use tf.compat.v1.Session instead.\n",
            "\n",
            "W0712 17:03:21.584257 140617974888320 deprecation_wrapper.py:119] From /usr/local/lib/python3.6/dist-packages/keras/backend/tensorflow_backend.py:1834: The name tf.nn.fused_batch_norm is deprecated. Please use tf.compat.v1.nn.fused_batch_norm instead.\n",
            "\n",
            "W0712 17:03:21.752535 140617974888320 deprecation_wrapper.py:119] From /usr/local/lib/python3.6/dist-packages/keras/backend/tensorflow_backend.py:3976: The name tf.nn.max_pool is deprecated. Please use tf.nn.max_pool2d instead.\n",
            "\n"
          ],
          "name": "stderr"
        },
        {
          "output_type": "stream",
          "text": [
            "Downloading data from https://github.com/qubvel/classification_models/releases/download/0.0.1/resnet18_imagenet_1000.h5\n",
            "46981120/46977688 [==============================] - 1s 0us/step\n"
          ],
          "name": "stdout"
        }
      ]
    },
    {
      "cell_type": "code",
      "metadata": {
        "id": "1SXH95L1XfVR",
        "colab_type": "code",
        "colab": {}
      },
      "source": [
        "import keras\n",
        "from classification_models.resnet import ResNet18, preprocess_input\n"
      ],
      "execution_count": 0,
      "outputs": []
    },
    {
      "cell_type": "code",
      "metadata": {
        "id": "SBXwECmNXm3_",
        "colab_type": "code",
        "colab": {
          "base_uri": "https://localhost:8080/",
          "height": 1000
        },
        "outputId": "ae70f3a2-5984-4a9b-ce85-0e5eb3960bd9"
      },
      "source": [
        "from keras.datasets import cifar10\n",
        "# Load CIFAR10 Data\n",
        "(x_train, y_train), (x_test, y_test) = cifar10.load_data()\n",
        "img_height, img_width, channel = x_train.shape[1],x_train.shape[2],x_train.shape[3]\n",
        "print ('0. Each Image height and width',img_height, img_width, channel)\n",
        "\n",
        "print (\"1. \",x_train.shape, x_train[0].shape, y_train.shape, x_test.shape, y_test.shape)\n",
        "x_train = x_train.astype('float32')\n",
        "x_test = x_test.astype('float32')\n",
        "\n",
        "# convert to one hot encoing\n",
        "num_classes= 10\n",
        "y_train = keras.utils.to_categorical(y_train, num_classes)\n",
        "y_test = keras.utils.to_categorical(y_test, num_classes)\n",
        "\n",
        "print (\"2. \", x_train.shape, x_train[0].shape, y_train.shape, x_test.shape, y_test.shape)\n",
        "\n",
        "if K.image_data_format() == \"channels_first\":\n",
        "  n_channels = x_train.shape[1]\n",
        "else:\n",
        "  n_channels = x_train.shape[-1]\n",
        "  \n",
        "# Normalisation\n",
        "x = np.vstack((x_train, x_test))\n",
        "# 2 cases depending on the image ordering\n",
        "if K.image_data_format() == \"channels_first\":\n",
        "        for i in range(n_channels):\n",
        "            mean = np.mean(x[:, i, :, :])\n",
        "            std = np.std(X[:, i, :, :])\n",
        "            x_train[:, i, :, :] = (x_train[:, i, :, :] - mean) / std\n",
        "            x_test[:, i, :, :] = (x_test[:, i, :, :] - mean) / std\n",
        "elif K.image_data_format() == \"channels_last\":\n",
        "        for i in range(n_channels):\n",
        "            mean = np.mean(x[:, :, :, i])\n",
        "            std = np.std(x[:, :, :, i])\n",
        "            x_train[:, :, :, i] = (x_train[:, :, :, i] - mean) / std\n",
        "            x_test[:, :, :, i] = (x_test[:, :, :, i] - mean) / std\n",
        "print (\"3. \",x_train.shape, x_train[0].shape, y_train.shape, x_test.shape, y_test.shape)\n",
        "\n",
        "x_train =preprocess_input(x_train)\n",
        "print (\"3. \",x_train.shape, x_train[0].shape, y_train.shape, x_test.shape, y_test.shape)\n",
        "from classification_models import Classifiers\n",
        "\n",
        "# classifier, preprocess_input = Classifiers.get('resnet18')\n",
        "# model = classifier((224, 224, 3), weights='imagenet')\n",
        "for i,layer in enumerate(model.layers):\n",
        "  print(i,layer.name, layer.trainable)\n",
        "n_classes = 10\n",
        "# build model\n",
        "base_model = ResNet18(input_shape=(32,32,3), weights='imagenet', include_top=False)\n",
        "x = keras.layers.GlobalAveragePooling2D()(base_model.output)\n",
        "output = keras.layers.Dense(n_classes, activation='softmax')(x)\n",
        "model = keras.models.Model(inputs=[base_model.input], outputs=[output])\n",
        "\n",
        "model.summary()\n",
        "for i,layer in enumerate(model.layers):\n",
        "  print(i,layer.name)"
      ],
      "execution_count": 10,
      "outputs": [
        {
          "output_type": "stream",
          "text": [
            "0. Each Image height and width 32 32 3\n",
            "1.  (50000, 32, 32, 3) (32, 32, 3) (50000, 1) (10000, 32, 32, 3) (10000, 1)\n",
            "2.  (50000, 32, 32, 3) (32, 32, 3) (50000, 10) (10000, 32, 32, 3) (10000, 10)\n",
            "3.  (50000, 32, 32, 3) (32, 32, 3) (50000, 10) (10000, 32, 32, 3) (10000, 10)\n",
            "3.  (50000, 32, 32, 3) (32, 32, 3) (50000, 10) (10000, 32, 32, 3) (10000, 10)\n",
            "0 data False\n",
            "1 bn_data True\n",
            "2 zero_padding2d_19 True\n",
            "3 conv0 True\n",
            "4 bn0 True\n",
            "5 relu0 True\n",
            "6 zero_padding2d_20 True\n",
            "7 pooling0 True\n",
            "8 stage1_unit1_bn1 True\n",
            "9 stage1_unit1_relu1 True\n",
            "10 zero_padding2d_21 True\n",
            "11 stage1_unit1_conv1 True\n",
            "12 stage1_unit1_bn2 True\n",
            "13 stage1_unit1_relu2 True\n",
            "14 zero_padding2d_22 True\n",
            "15 stage1_unit1_conv2 True\n",
            "16 stage1_unit1_sc True\n",
            "17 add_9 True\n",
            "18 stage1_unit2_bn1 True\n",
            "19 stage1_unit2_relu1 True\n",
            "20 zero_padding2d_23 True\n",
            "21 stage1_unit2_conv1 True\n",
            "22 stage1_unit2_bn2 True\n",
            "23 stage1_unit2_relu2 True\n",
            "24 zero_padding2d_24 True\n",
            "25 stage1_unit2_conv2 True\n",
            "26 add_10 True\n",
            "27 stage2_unit1_bn1 True\n",
            "28 stage2_unit1_relu1 True\n",
            "29 zero_padding2d_25 True\n",
            "30 stage2_unit1_conv1 True\n",
            "31 stage2_unit1_bn2 True\n",
            "32 stage2_unit1_relu2 True\n",
            "33 zero_padding2d_26 True\n",
            "34 stage2_unit1_conv2 True\n",
            "35 stage2_unit1_sc True\n",
            "36 add_11 True\n",
            "37 stage2_unit2_bn1 True\n",
            "38 stage2_unit2_relu1 True\n",
            "39 zero_padding2d_27 True\n",
            "40 stage2_unit2_conv1 True\n",
            "41 stage2_unit2_bn2 True\n",
            "42 stage2_unit2_relu2 True\n",
            "43 zero_padding2d_28 True\n",
            "44 stage2_unit2_conv2 True\n",
            "45 add_12 True\n",
            "46 stage3_unit1_bn1 True\n",
            "47 stage3_unit1_relu1 True\n",
            "48 zero_padding2d_29 True\n",
            "49 stage3_unit1_conv1 True\n",
            "50 stage3_unit1_bn2 True\n",
            "51 stage3_unit1_relu2 True\n",
            "52 zero_padding2d_30 True\n",
            "53 stage3_unit1_conv2 True\n",
            "54 stage3_unit1_sc True\n",
            "55 add_13 True\n",
            "56 stage3_unit2_bn1 True\n",
            "57 stage3_unit2_relu1 True\n",
            "58 zero_padding2d_31 True\n",
            "59 stage3_unit2_conv1 True\n",
            "60 stage3_unit2_bn2 True\n",
            "61 stage3_unit2_relu2 True\n",
            "62 zero_padding2d_32 True\n",
            "63 stage3_unit2_conv2 True\n",
            "64 add_14 True\n",
            "65 stage4_unit1_bn1 True\n",
            "66 stage4_unit1_relu1 True\n",
            "67 zero_padding2d_33 True\n",
            "68 stage4_unit1_conv1 True\n",
            "69 stage4_unit1_bn2 True\n",
            "70 stage4_unit1_relu2 True\n",
            "71 zero_padding2d_34 True\n",
            "72 stage4_unit1_conv2 True\n",
            "73 stage4_unit1_sc True\n",
            "74 add_15 True\n",
            "75 stage4_unit2_bn1 True\n",
            "76 stage4_unit2_relu1 True\n",
            "77 zero_padding2d_35 True\n",
            "78 stage4_unit2_conv1 True\n",
            "79 stage4_unit2_bn2 True\n",
            "80 stage4_unit2_relu2 True\n",
            "81 zero_padding2d_36 True\n",
            "82 stage4_unit2_conv2 True\n",
            "83 add_16 True\n",
            "84 bn1 True\n",
            "85 relu1 True\n",
            "86 pool1 True\n",
            "87 fc1 True\n",
            "88 softmax True\n",
            "A local file was found, but it seems to be incomplete or outdated because the md5 file hash does not match the original value of 318e3ac0cd98d51e917526c9f62f0b50 so we will re-download the data.\n",
            "Downloading data from https://github.com/qubvel/classification_models/releases/download/0.0.1/resnet18_imagenet_1000_no_top.h5\n",
            "44924928/44920640 [==============================] - 1s 0us/step\n",
            "__________________________________________________________________________________________________\n",
            "Layer (type)                    Output Shape         Param #     Connected to                     \n",
            "==================================================================================================\n",
            "data (InputLayer)               (None, 32, 32, 3)    0                                            \n",
            "__________________________________________________________________________________________________\n",
            "bn_data (BatchNormalization)    (None, 32, 32, 3)    9           data[0][0]                       \n",
            "__________________________________________________________________________________________________\n",
            "zero_padding2d_37 (ZeroPadding2 (None, 38, 38, 3)    0           bn_data[0][0]                    \n",
            "__________________________________________________________________________________________________\n",
            "conv0 (Conv2D)                  (None, 16, 16, 64)   9408        zero_padding2d_37[0][0]          \n",
            "__________________________________________________________________________________________________\n",
            "bn0 (BatchNormalization)        (None, 16, 16, 64)   256         conv0[0][0]                      \n",
            "__________________________________________________________________________________________________\n",
            "relu0 (Activation)              (None, 16, 16, 64)   0           bn0[0][0]                        \n",
            "__________________________________________________________________________________________________\n",
            "zero_padding2d_38 (ZeroPadding2 (None, 18, 18, 64)   0           relu0[0][0]                      \n",
            "__________________________________________________________________________________________________\n",
            "pooling0 (MaxPooling2D)         (None, 8, 8, 64)     0           zero_padding2d_38[0][0]          \n",
            "__________________________________________________________________________________________________\n",
            "stage1_unit1_bn1 (BatchNormaliz (None, 8, 8, 64)     256         pooling0[0][0]                   \n",
            "__________________________________________________________________________________________________\n",
            "stage1_unit1_relu1 (Activation) (None, 8, 8, 64)     0           stage1_unit1_bn1[0][0]           \n",
            "__________________________________________________________________________________________________\n",
            "zero_padding2d_39 (ZeroPadding2 (None, 10, 10, 64)   0           stage1_unit1_relu1[0][0]         \n",
            "__________________________________________________________________________________________________\n",
            "stage1_unit1_conv1 (Conv2D)     (None, 8, 8, 64)     36864       zero_padding2d_39[0][0]          \n",
            "__________________________________________________________________________________________________\n",
            "stage1_unit1_bn2 (BatchNormaliz (None, 8, 8, 64)     256         stage1_unit1_conv1[0][0]         \n",
            "__________________________________________________________________________________________________\n",
            "stage1_unit1_relu2 (Activation) (None, 8, 8, 64)     0           stage1_unit1_bn2[0][0]           \n",
            "__________________________________________________________________________________________________\n",
            "zero_padding2d_40 (ZeroPadding2 (None, 10, 10, 64)   0           stage1_unit1_relu2[0][0]         \n",
            "__________________________________________________________________________________________________\n",
            "stage1_unit1_conv2 (Conv2D)     (None, 8, 8, 64)     36864       zero_padding2d_40[0][0]          \n",
            "__________________________________________________________________________________________________\n",
            "stage1_unit1_sc (Conv2D)        (None, 8, 8, 64)     4096        stage1_unit1_relu1[0][0]         \n",
            "__________________________________________________________________________________________________\n",
            "add_17 (Add)                    (None, 8, 8, 64)     0           stage1_unit1_conv2[0][0]         \n",
            "                                                                 stage1_unit1_sc[0][0]            \n",
            "__________________________________________________________________________________________________\n",
            "stage1_unit2_bn1 (BatchNormaliz (None, 8, 8, 64)     256         add_17[0][0]                     \n",
            "__________________________________________________________________________________________________\n",
            "stage1_unit2_relu1 (Activation) (None, 8, 8, 64)     0           stage1_unit2_bn1[0][0]           \n",
            "__________________________________________________________________________________________________\n",
            "zero_padding2d_41 (ZeroPadding2 (None, 10, 10, 64)   0           stage1_unit2_relu1[0][0]         \n",
            "__________________________________________________________________________________________________\n",
            "stage1_unit2_conv1 (Conv2D)     (None, 8, 8, 64)     36864       zero_padding2d_41[0][0]          \n",
            "__________________________________________________________________________________________________\n",
            "stage1_unit2_bn2 (BatchNormaliz (None, 8, 8, 64)     256         stage1_unit2_conv1[0][0]         \n",
            "__________________________________________________________________________________________________\n",
            "stage1_unit2_relu2 (Activation) (None, 8, 8, 64)     0           stage1_unit2_bn2[0][0]           \n",
            "__________________________________________________________________________________________________\n",
            "zero_padding2d_42 (ZeroPadding2 (None, 10, 10, 64)   0           stage1_unit2_relu2[0][0]         \n",
            "__________________________________________________________________________________________________\n",
            "stage1_unit2_conv2 (Conv2D)     (None, 8, 8, 64)     36864       zero_padding2d_42[0][0]          \n",
            "__________________________________________________________________________________________________\n",
            "add_18 (Add)                    (None, 8, 8, 64)     0           stage1_unit2_conv2[0][0]         \n",
            "                                                                 add_17[0][0]                     \n",
            "__________________________________________________________________________________________________\n",
            "stage2_unit1_bn1 (BatchNormaliz (None, 8, 8, 64)     256         add_18[0][0]                     \n",
            "__________________________________________________________________________________________________\n",
            "stage2_unit1_relu1 (Activation) (None, 8, 8, 64)     0           stage2_unit1_bn1[0][0]           \n",
            "__________________________________________________________________________________________________\n",
            "zero_padding2d_43 (ZeroPadding2 (None, 10, 10, 64)   0           stage2_unit1_relu1[0][0]         \n",
            "__________________________________________________________________________________________________\n",
            "stage2_unit1_conv1 (Conv2D)     (None, 4, 4, 128)    73728       zero_padding2d_43[0][0]          \n",
            "__________________________________________________________________________________________________\n",
            "stage2_unit1_bn2 (BatchNormaliz (None, 4, 4, 128)    512         stage2_unit1_conv1[0][0]         \n",
            "__________________________________________________________________________________________________\n",
            "stage2_unit1_relu2 (Activation) (None, 4, 4, 128)    0           stage2_unit1_bn2[0][0]           \n",
            "__________________________________________________________________________________________________\n",
            "zero_padding2d_44 (ZeroPadding2 (None, 6, 6, 128)    0           stage2_unit1_relu2[0][0]         \n",
            "__________________________________________________________________________________________________\n",
            "stage2_unit1_conv2 (Conv2D)     (None, 4, 4, 128)    147456      zero_padding2d_44[0][0]          \n",
            "__________________________________________________________________________________________________\n",
            "stage2_unit1_sc (Conv2D)        (None, 4, 4, 128)    8192        stage2_unit1_relu1[0][0]         \n",
            "__________________________________________________________________________________________________\n",
            "add_19 (Add)                    (None, 4, 4, 128)    0           stage2_unit1_conv2[0][0]         \n",
            "                                                                 stage2_unit1_sc[0][0]            \n",
            "__________________________________________________________________________________________________\n",
            "stage2_unit2_bn1 (BatchNormaliz (None, 4, 4, 128)    512         add_19[0][0]                     \n",
            "__________________________________________________________________________________________________\n",
            "stage2_unit2_relu1 (Activation) (None, 4, 4, 128)    0           stage2_unit2_bn1[0][0]           \n",
            "__________________________________________________________________________________________________\n",
            "zero_padding2d_45 (ZeroPadding2 (None, 6, 6, 128)    0           stage2_unit2_relu1[0][0]         \n",
            "__________________________________________________________________________________________________\n",
            "stage2_unit2_conv1 (Conv2D)     (None, 4, 4, 128)    147456      zero_padding2d_45[0][0]          \n",
            "__________________________________________________________________________________________________\n",
            "stage2_unit2_bn2 (BatchNormaliz (None, 4, 4, 128)    512         stage2_unit2_conv1[0][0]         \n",
            "__________________________________________________________________________________________________\n",
            "stage2_unit2_relu2 (Activation) (None, 4, 4, 128)    0           stage2_unit2_bn2[0][0]           \n",
            "__________________________________________________________________________________________________\n",
            "zero_padding2d_46 (ZeroPadding2 (None, 6, 6, 128)    0           stage2_unit2_relu2[0][0]         \n",
            "__________________________________________________________________________________________________\n",
            "stage2_unit2_conv2 (Conv2D)     (None, 4, 4, 128)    147456      zero_padding2d_46[0][0]          \n",
            "__________________________________________________________________________________________________\n",
            "add_20 (Add)                    (None, 4, 4, 128)    0           stage2_unit2_conv2[0][0]         \n",
            "                                                                 add_19[0][0]                     \n",
            "__________________________________________________________________________________________________\n",
            "stage3_unit1_bn1 (BatchNormaliz (None, 4, 4, 128)    512         add_20[0][0]                     \n",
            "__________________________________________________________________________________________________\n",
            "stage3_unit1_relu1 (Activation) (None, 4, 4, 128)    0           stage3_unit1_bn1[0][0]           \n",
            "__________________________________________________________________________________________________\n",
            "zero_padding2d_47 (ZeroPadding2 (None, 6, 6, 128)    0           stage3_unit1_relu1[0][0]         \n",
            "__________________________________________________________________________________________________\n",
            "stage3_unit1_conv1 (Conv2D)     (None, 2, 2, 256)    294912      zero_padding2d_47[0][0]          \n",
            "__________________________________________________________________________________________________\n",
            "stage3_unit1_bn2 (BatchNormaliz (None, 2, 2, 256)    1024        stage3_unit1_conv1[0][0]         \n",
            "__________________________________________________________________________________________________\n",
            "stage3_unit1_relu2 (Activation) (None, 2, 2, 256)    0           stage3_unit1_bn2[0][0]           \n",
            "__________________________________________________________________________________________________\n",
            "zero_padding2d_48 (ZeroPadding2 (None, 4, 4, 256)    0           stage3_unit1_relu2[0][0]         \n",
            "__________________________________________________________________________________________________\n",
            "stage3_unit1_conv2 (Conv2D)     (None, 2, 2, 256)    589824      zero_padding2d_48[0][0]          \n",
            "__________________________________________________________________________________________________\n",
            "stage3_unit1_sc (Conv2D)        (None, 2, 2, 256)    32768       stage3_unit1_relu1[0][0]         \n",
            "__________________________________________________________________________________________________\n",
            "add_21 (Add)                    (None, 2, 2, 256)    0           stage3_unit1_conv2[0][0]         \n",
            "                                                                 stage3_unit1_sc[0][0]            \n",
            "__________________________________________________________________________________________________\n",
            "stage3_unit2_bn1 (BatchNormaliz (None, 2, 2, 256)    1024        add_21[0][0]                     \n",
            "__________________________________________________________________________________________________\n",
            "stage3_unit2_relu1 (Activation) (None, 2, 2, 256)    0           stage3_unit2_bn1[0][0]           \n",
            "__________________________________________________________________________________________________\n",
            "zero_padding2d_49 (ZeroPadding2 (None, 4, 4, 256)    0           stage3_unit2_relu1[0][0]         \n",
            "__________________________________________________________________________________________________\n",
            "stage3_unit2_conv1 (Conv2D)     (None, 2, 2, 256)    589824      zero_padding2d_49[0][0]          \n",
            "__________________________________________________________________________________________________\n",
            "stage3_unit2_bn2 (BatchNormaliz (None, 2, 2, 256)    1024        stage3_unit2_conv1[0][0]         \n",
            "__________________________________________________________________________________________________\n",
            "stage3_unit2_relu2 (Activation) (None, 2, 2, 256)    0           stage3_unit2_bn2[0][0]           \n",
            "__________________________________________________________________________________________________\n",
            "zero_padding2d_50 (ZeroPadding2 (None, 4, 4, 256)    0           stage3_unit2_relu2[0][0]         \n",
            "__________________________________________________________________________________________________\n",
            "stage3_unit2_conv2 (Conv2D)     (None, 2, 2, 256)    589824      zero_padding2d_50[0][0]          \n",
            "__________________________________________________________________________________________________\n",
            "add_22 (Add)                    (None, 2, 2, 256)    0           stage3_unit2_conv2[0][0]         \n",
            "                                                                 add_21[0][0]                     \n",
            "__________________________________________________________________________________________________\n",
            "stage4_unit1_bn1 (BatchNormaliz (None, 2, 2, 256)    1024        add_22[0][0]                     \n",
            "__________________________________________________________________________________________________\n",
            "stage4_unit1_relu1 (Activation) (None, 2, 2, 256)    0           stage4_unit1_bn1[0][0]           \n",
            "__________________________________________________________________________________________________\n",
            "zero_padding2d_51 (ZeroPadding2 (None, 4, 4, 256)    0           stage4_unit1_relu1[0][0]         \n",
            "__________________________________________________________________________________________________\n",
            "stage4_unit1_conv1 (Conv2D)     (None, 1, 1, 512)    1179648     zero_padding2d_51[0][0]          \n",
            "__________________________________________________________________________________________________\n",
            "stage4_unit1_bn2 (BatchNormaliz (None, 1, 1, 512)    2048        stage4_unit1_conv1[0][0]         \n",
            "__________________________________________________________________________________________________\n",
            "stage4_unit1_relu2 (Activation) (None, 1, 1, 512)    0           stage4_unit1_bn2[0][0]           \n",
            "__________________________________________________________________________________________________\n",
            "zero_padding2d_52 (ZeroPadding2 (None, 3, 3, 512)    0           stage4_unit1_relu2[0][0]         \n",
            "__________________________________________________________________________________________________\n",
            "stage4_unit1_conv2 (Conv2D)     (None, 1, 1, 512)    2359296     zero_padding2d_52[0][0]          \n",
            "__________________________________________________________________________________________________\n",
            "stage4_unit1_sc (Conv2D)        (None, 1, 1, 512)    131072      stage4_unit1_relu1[0][0]         \n",
            "__________________________________________________________________________________________________\n",
            "add_23 (Add)                    (None, 1, 1, 512)    0           stage4_unit1_conv2[0][0]         \n",
            "                                                                 stage4_unit1_sc[0][0]            \n",
            "__________________________________________________________________________________________________\n",
            "stage4_unit2_bn1 (BatchNormaliz (None, 1, 1, 512)    2048        add_23[0][0]                     \n",
            "__________________________________________________________________________________________________\n",
            "stage4_unit2_relu1 (Activation) (None, 1, 1, 512)    0           stage4_unit2_bn1[0][0]           \n",
            "__________________________________________________________________________________________________\n",
            "zero_padding2d_53 (ZeroPadding2 (None, 3, 3, 512)    0           stage4_unit2_relu1[0][0]         \n",
            "__________________________________________________________________________________________________\n",
            "stage4_unit2_conv1 (Conv2D)     (None, 1, 1, 512)    2359296     zero_padding2d_53[0][0]          \n",
            "__________________________________________________________________________________________________\n",
            "stage4_unit2_bn2 (BatchNormaliz (None, 1, 1, 512)    2048        stage4_unit2_conv1[0][0]         \n",
            "__________________________________________________________________________________________________\n",
            "stage4_unit2_relu2 (Activation) (None, 1, 1, 512)    0           stage4_unit2_bn2[0][0]           \n",
            "__________________________________________________________________________________________________\n",
            "zero_padding2d_54 (ZeroPadding2 (None, 3, 3, 512)    0           stage4_unit2_relu2[0][0]         \n",
            "__________________________________________________________________________________________________\n",
            "stage4_unit2_conv2 (Conv2D)     (None, 1, 1, 512)    2359296     zero_padding2d_54[0][0]          \n",
            "__________________________________________________________________________________________________\n",
            "add_24 (Add)                    (None, 1, 1, 512)    0           stage4_unit2_conv2[0][0]         \n",
            "                                                                 add_23[0][0]                     \n",
            "__________________________________________________________________________________________________\n",
            "bn1 (BatchNormalization)        (None, 1, 1, 512)    2048        add_24[0][0]                     \n",
            "__________________________________________________________________________________________________\n",
            "relu1 (Activation)              (None, 1, 1, 512)    0           bn1[0][0]                        \n",
            "__________________________________________________________________________________________________\n",
            "global_average_pooling2d_1 (Glo (None, 512)          0           relu1[0][0]                      \n",
            "__________________________________________________________________________________________________\n",
            "dense_1 (Dense)                 (None, 10)           5130        global_average_pooling2d_1[0][0] \n",
            "==================================================================================================\n",
            "Total params: 11,192,019\n",
            "Trainable params: 11,184,077\n",
            "Non-trainable params: 7,942\n",
            "__________________________________________________________________________________________________\n",
            "0 data\n",
            "1 bn_data\n",
            "2 zero_padding2d_37\n",
            "3 conv0\n",
            "4 bn0\n",
            "5 relu0\n",
            "6 zero_padding2d_38\n",
            "7 pooling0\n",
            "8 stage1_unit1_bn1\n",
            "9 stage1_unit1_relu1\n",
            "10 zero_padding2d_39\n",
            "11 stage1_unit1_conv1\n",
            "12 stage1_unit1_bn2\n",
            "13 stage1_unit1_relu2\n",
            "14 zero_padding2d_40\n",
            "15 stage1_unit1_conv2\n",
            "16 stage1_unit1_sc\n",
            "17 add_17\n",
            "18 stage1_unit2_bn1\n",
            "19 stage1_unit2_relu1\n",
            "20 zero_padding2d_41\n",
            "21 stage1_unit2_conv1\n",
            "22 stage1_unit2_bn2\n",
            "23 stage1_unit2_relu2\n",
            "24 zero_padding2d_42\n",
            "25 stage1_unit2_conv2\n",
            "26 add_18\n",
            "27 stage2_unit1_bn1\n",
            "28 stage2_unit1_relu1\n",
            "29 zero_padding2d_43\n",
            "30 stage2_unit1_conv1\n",
            "31 stage2_unit1_bn2\n",
            "32 stage2_unit1_relu2\n",
            "33 zero_padding2d_44\n",
            "34 stage2_unit1_conv2\n",
            "35 stage2_unit1_sc\n",
            "36 add_19\n",
            "37 stage2_unit2_bn1\n",
            "38 stage2_unit2_relu1\n",
            "39 zero_padding2d_45\n",
            "40 stage2_unit2_conv1\n",
            "41 stage2_unit2_bn2\n",
            "42 stage2_unit2_relu2\n",
            "43 zero_padding2d_46\n",
            "44 stage2_unit2_conv2\n",
            "45 add_20\n",
            "46 stage3_unit1_bn1\n",
            "47 stage3_unit1_relu1\n",
            "48 zero_padding2d_47\n",
            "49 stage3_unit1_conv1\n",
            "50 stage3_unit1_bn2\n",
            "51 stage3_unit1_relu2\n",
            "52 zero_padding2d_48\n",
            "53 stage3_unit1_conv2\n",
            "54 stage3_unit1_sc\n",
            "55 add_21\n",
            "56 stage3_unit2_bn1\n",
            "57 stage3_unit2_relu1\n",
            "58 zero_padding2d_49\n",
            "59 stage3_unit2_conv1\n",
            "60 stage3_unit2_bn2\n",
            "61 stage3_unit2_relu2\n",
            "62 zero_padding2d_50\n",
            "63 stage3_unit2_conv2\n",
            "64 add_22\n",
            "65 stage4_unit1_bn1\n",
            "66 stage4_unit1_relu1\n",
            "67 zero_padding2d_51\n",
            "68 stage4_unit1_conv1\n",
            "69 stage4_unit1_bn2\n",
            "70 stage4_unit1_relu2\n",
            "71 zero_padding2d_52\n",
            "72 stage4_unit1_conv2\n",
            "73 stage4_unit1_sc\n",
            "74 add_23\n",
            "75 stage4_unit2_bn1\n",
            "76 stage4_unit2_relu1\n",
            "77 zero_padding2d_53\n",
            "78 stage4_unit2_conv1\n",
            "79 stage4_unit2_bn2\n",
            "80 stage4_unit2_relu2\n",
            "81 zero_padding2d_54\n",
            "82 stage4_unit2_conv2\n",
            "83 add_24\n",
            "84 bn1\n",
            "85 relu1\n",
            "86 global_average_pooling2d_1\n",
            "87 dense_1\n"
          ],
          "name": "stdout"
        }
      ]
    },
    {
      "cell_type": "markdown",
      "metadata": {
        "id": "Oqs_fqn8VLMr",
        "colab_type": "text"
      },
      "source": [
        "# Grad cam for 1 image"
      ]
    },
    {
      "cell_type": "code",
      "metadata": {
        "id": "-RZhz8ILZlI6",
        "colab_type": "code",
        "colab": {
          "base_uri": "https://localhost:8080/",
          "height": 663
        },
        "outputId": "ec07d283-3698-4e2e-bdd3-4b42e5b0617a"
      },
      "source": [
        "from skimage.transform import resize\n",
        "def preprocess(x):\n",
        "    x = resize(x, (32,32), mode='constant') * 255\n",
        "    x = preprocess_input(x)\n",
        "    if x.ndim == 3:\n",
        "        x = np.expand_dims(x, 0)\n",
        "    return x\n",
        "print ('x_test[0] shape :', x_test[0].shape)\n",
        "x_test_preprocess = preprocess(x_test[0])\n",
        "print ('x_test_preprocess :', x_test_preprocess.shape)\n",
        "preds = model.predict(x_test_preprocess)\n",
        "print ('preds.shape :', preds.shape)\n",
        "\n",
        "\n",
        "class_idx = np.argmax(preds[0])\n",
        "print(class_idx)\n",
        "class_output = model.output[:, class_idx]\n",
        "print(class_output)\n",
        "\n",
        "last_conv_layer = model.get_layer(\"zero_padding2d_51\")\n",
        "print(last_conv_layer)\n",
        "grads = K.gradients(class_output, last_conv_layer.output)[0]\n",
        "pooled_grads = K.mean(grads, axis=(0, 1, 2))\n",
        "\n",
        "iterate = K.function([model.input], [pooled_grads, last_conv_layer.output[0]])\n",
        "pooled_grads_value, conv_layer_output_value = iterate([x_test_preprocess])\n",
        "\n",
        "for i in range(256):\n",
        "    conv_layer_output_value[:, :, i] *= pooled_grads_value[i]\n",
        "\n",
        "heatmap = np.mean(conv_layer_output_value, axis=-1)\n",
        "heatmap = np.maximum(heatmap, 0)\n",
        "heatmap /= np.max(heatmap)\n",
        "\n",
        "import cv2\n",
        "import matplotlib.pyplot as plt\n",
        "\n",
        "cv2.imwrite('color_img.jpg', x_test[0])\n",
        "import os\n",
        "img_path= os.path.join(os.getcwd(),'color_img.jpg')\n",
        "img = cv2.imread(img_path)\n",
        "# print(img)\n",
        "# plt.imshow(img)\n",
        "# plt.show()\n",
        "# img = x_test[0]#cv2.imread(img_path)\n",
        "heatmap = cv2.resize(heatmap, (img.shape[1], img.shape[0]))\n",
        "heatmap = np.uint8(255 * heatmap)\n",
        "heatmap = cv2.applyColorMap(heatmap, cv2.COLORMAP_JET)\n",
        "print(heatmap.shape)\n",
        "superimposed_img = cv2.addWeighted(img, 0.6, heatmap, 0.4, 0)\n",
        "\n",
        "plt.imshow(x_test[0])\n",
        "plt.show()\n",
        "plt.imshow( superimposed_img)\n",
        "plt.show()"
      ],
      "execution_count": 19,
      "outputs": [
        {
          "output_type": "stream",
          "text": [
            "x_test[0] shape : (32, 32, 3)\n",
            "x_test_preprocess : (1, 32, 32, 3)\n",
            "preds.shape : (1, 10)\n",
            "2\n",
            "Tensor(\"strided_slice_23:0\", shape=(?,), dtype=float32)\n",
            "<keras.layers.convolutional.ZeroPadding2D object at 0x7fe36e4f8160>\n"
          ],
          "name": "stdout"
        },
        {
          "output_type": "stream",
          "text": [
            "W0712 17:16:23.480014 140617974888320 image.py:648] Clipping input data to the valid range for imshow with RGB data ([0..1] for floats or [0..255] for integers).\n"
          ],
          "name": "stderr"
        },
        {
          "output_type": "stream",
          "text": [
            "(32, 32, 3)\n"
          ],
          "name": "stdout"
        },
        {
          "output_type": "display_data",
          "data": {
            "image/png": "[encoded data removed]",
            "text/plain": [
              "<Figure size 432x288 with 1 Axes>"
            ]
          },
          "metadata": {
            "tags": []
          }
        },
        {
          "output_type": "display_data",
          "data": {
            "image/png": "[encoded data removed]",
            "text/plain": [
              "<Figure size 432x288 with 1 Axes>"
            ]
          },
          "metadata": {
            "tags": []
          }
        }
      ]
    },
    {
      "cell_type": "markdown",
      "metadata": {
        "id": "saYot1iuVFAi",
        "colab_type": "text"
      },
      "source": [
        "# GradCam for 5 images"
      ]
    },
    {
      "cell_type": "code",
      "metadata": {
        "id": "rux28WdfK5kv",
        "colab_type": "code",
        "colab": {
          "base_uri": "https://localhost:8080/",
          "height": 1000
        },
        "outputId": "cb2c8a61-b5b3-4ce3-e84f-0c4456695d7c"
      },
      "source": [
        "for i in range(0, 5):\n",
        "  from skimage.transform import resize\n",
        "  def preprocess(x):\n",
        "      x = resize(x, (32,32), mode='constant') * 255\n",
        "      x = preprocess_input(x)\n",
        "      if x.ndim == 3:\n",
        "          x = np.expand_dims(x, 0)\n",
        "      return x\n",
        "  print ('x_test[i] shape :', x_test[i].shape)\n",
        "  x_test_preprocess = preprocess(x_test[i])\n",
        "  print ('x_test_preprocess :', x_test_preprocess.shape)\n",
        "  preds = model.predict(x_test_preprocess)\n",
        "  print ('preds.shape :', preds.shape)\n",
        "\n",
        "\n",
        "  class_idx = np.argmax(preds[0])\n",
        "  print(class_idx)\n",
        "  class_output = model.output[:, class_idx]\n",
        "  print(class_output)\n",
        "\n",
        "  last_conv_layer = model.get_layer(\"zero_padding2d_51\")\n",
        "  print(last_conv_layer)\n",
        "  grads = K.gradients(class_output, last_conv_layer.output)[0]\n",
        "  pooled_grads = K.mean(grads, axis=(0, 1, 2))\n",
        "\n",
        "  iterate = K.function([model.input], [pooled_grads, last_conv_layer.output[0]])\n",
        "  pooled_grads_value, conv_layer_output_value = iterate([x_test_preprocess])\n",
        "\n",
        "  for i_new in range(256):\n",
        "      conv_layer_output_value[:, :, i_new] *= pooled_grads_value[i_new]\n",
        "\n",
        "  heatmap = np.mean(conv_layer_output_value, axis=-1)\n",
        "  heatmap = np.maximum(heatmap, 0)\n",
        "  heatmap /= np.max(heatmap)\n",
        "\n",
        "  import cv2\n",
        "  import matplotlib.pyplot as plt\n",
        "\n",
        "  cv2.imwrite('color_img.jpg', x_test[i])\n",
        "  import os\n",
        "  img_path= os.path.join(os.getcwd(),'color_img.jpg')\n",
        "  img = cv2.imread(img_path)\n",
        "  # print(img)\n",
        "  # plt.imshow(img)\n",
        "  # plt.show()\n",
        "  # img = x_test[0]#cv2.imread(img_path)\n",
        "  heatmap = cv2.resize(heatmap, (img.shape[1], img.shape[0]))\n",
        "  heatmap = np.uint8(255 * heatmap)\n",
        "  heatmap = cv2.applyColorMap(heatmap, cv2.COLORMAP_JET)\n",
        "  print(heatmap.shape)\n",
        "  superimposed_img = cv2.addWeighted(img, 0.6, heatmap, 0.4, 0)\n",
        "\n",
        "  plt.imshow(x_test[i])\n",
        "  plt.show()\n",
        "  plt.imshow( superimposed_img)\n",
        "  plt.show()"
      ],
      "execution_count": 35,
      "outputs": [
        {
          "output_type": "stream",
          "text": [
            "x_test[i] shape : (32, 32, 3)\n",
            "x_test_preprocess : (1, 32, 32, 3)\n",
            "preds.shape : (1, 10)\n",
            "2\n",
            "Tensor(\"strided_slice_557:0\", shape=(?,), dtype=float32)\n",
            "<keras.layers.convolutional.ZeroPadding2D object at 0x7fe36e4f8160>\n"
          ],
          "name": "stdout"
        },
        {
          "output_type": "stream",
          "text": [
            "W0712 17:56:29.234305 140617974888320 image.py:648] Clipping input data to the valid range for imshow with RGB data ([0..1] for floats or [0..255] for integers).\n"
          ],
          "name": "stderr"
        },
        {
          "output_type": "stream",
          "text": [
            "(32, 32, 3)\n"
          ],
          "name": "stdout"
        },
        {
          "output_type": "display_data",
          "data": {
            "image/png": "[encoded data removed]",
            "text/plain": [
              "<Figure size 432x288 with 1 Axes>"
            ]
          },
          "metadata": {
            "tags": []
          }
        },
        {
          "output_type": "display_data",
          "data": {
            "image/png": "[encoded data removed]",
            "text/plain": [
              "<Figure size 432x288 with 1 Axes>"
            ]
          },
          "metadata": {
            "tags": []
          }
        },
        {
          "output_type": "stream",
          "text": [
            "x_test[i] shape : (32, 32, 3)\n",
            "x_test_preprocess : (1, 32, 32, 3)\n",
            "preds.shape : (1, 10)\n",
            "2\n",
            "Tensor(\"strided_slice_559:0\", shape=(?,), dtype=float32)\n",
            "<keras.layers.convolutional.ZeroPadding2D object at 0x7fe36e4f8160>\n"
          ],
          "name": "stdout"
        },
        {
          "output_type": "stream",
          "text": [
            "/usr/local/lib/python3.6/dist-packages/ipykernel_launcher.py:34: RuntimeWarning: invalid value encountered in true_divide\n",
            "W0712 17:56:34.028748 140617974888320 image.py:648] Clipping input data to the valid range for imshow with RGB data ([0..1] for floats or [0..255] for integers).\n"
          ],
          "name": "stderr"
        },
        {
          "output_type": "stream",
          "text": [
            "(32, 32, 3)\n"
          ],
          "name": "stdout"
        },
        {
          "output_type": "display_data",
          "data": {
            "image/png": "[encoded data removed]",
            "text/plain": [
              "<Figure size 432x288 with 1 Axes>"
            ]
          },
          "metadata": {
            "tags": []
          }
        },
        {
          "output_type": "display_data",
          "data": {
            "image/png": "[encoded data removed]",
            "text/plain": [
              "<Figure size 432x288 with 1 Axes>"
            ]
          },
          "metadata": {
            "tags": []
          }
        },
        {
          "output_type": "stream",
          "text": [
            "x_test[i] shape : (32, 32, 3)\n",
            "x_test_preprocess : (1, 32, 32, 3)\n",
            "preds.shape : (1, 10)\n",
            "5\n",
            "Tensor(\"strided_slice_561:0\", shape=(?,), dtype=float32)\n",
            "<keras.layers.convolutional.ZeroPadding2D object at 0x7fe36e4f8160>\n"
          ],
          "name": "stdout"
        },
        {
          "output_type": "stream",
          "text": [
            "W0712 17:56:38.835456 140617974888320 image.py:648] Clipping input data to the valid range for imshow with RGB data ([0..1] for floats or [0..255] for integers).\n"
          ],
          "name": "stderr"
        },
        {
          "output_type": "stream",
          "text": [
            "(32, 32, 3)\n"
          ],
          "name": "stdout"
        },
        {
          "output_type": "display_data",
          "data": {
            "image/png": "[encoded data removed]",
            "text/plain": [
              "<Figure size 432x288 with 1 Axes>"
            ]
          },
          "metadata": {
            "tags": []
          }
        },
        {
          "output_type": "display_data",
          "data": {
            "image/png": "[encoded data removed]",
            "text/plain": [
              "<Figure size 432x288 with 1 Axes>"
            ]
          },
          "metadata": {
            "tags": []
          }
        },
        {
          "output_type": "stream",
          "text": [
            "x_test[i] shape : (32, 32, 3)\n",
            "x_test_preprocess : (1, 32, 32, 3)\n",
            "preds.shape : (1, 10)\n",
            "7\n",
            "Tensor(\"strided_slice_563:0\", shape=(?,), dtype=float32)\n",
            "<keras.layers.convolutional.ZeroPadding2D object at 0x7fe36e4f8160>\n"
          ],
          "name": "stdout"
        },
        {
          "output_type": "stream",
          "text": [
            "W0712 17:56:43.646406 140617974888320 image.py:648] Clipping input data to the valid range for imshow with RGB data ([0..1] for floats or [0..255] for integers).\n"
          ],
          "name": "stderr"
        },
        {
          "output_type": "stream",
          "text": [
            "(32, 32, 3)\n"
          ],
          "name": "stdout"
        },
        {
          "output_type": "display_data",
          "data": {
            "image/png": "[encoded data removed]",
            "text/plain": [
              "<Figure size 432x288 with 1 Axes>"
            ]
          },
          "metadata": {
            "tags": []
          }
        },
        {
          "output_type": "display_data",
          "data": {
            "image/png": "[encoded data removed]",
            "text/plain": [
              "<Figure size 432x288 with 1 Axes>"
            ]
          },
          "metadata": {
            "tags": []
          }
        },
        {
          "output_type": "stream",
          "text": [
            "x_test[i] shape : (32, 32, 3)\n",
            "x_test_preprocess : (1, 32, 32, 3)\n",
            "preds.shape : (1, 10)\n",
            "2\n",
            "Tensor(\"strided_slice_565:0\", shape=(?,), dtype=float32)\n",
            "<keras.layers.convolutional.ZeroPadding2D object at 0x7fe36e4f8160>\n"
          ],
          "name": "stdout"
        },
        {
          "output_type": "stream",
          "text": [
            "W0712 17:56:48.350566 140617974888320 image.py:648] Clipping input data to the valid range for imshow with RGB data ([0..1] for floats or [0..255] for integers).\n"
          ],
          "name": "stderr"
        },
        {
          "output_type": "stream",
          "text": [
            "(32, 32, 3)\n"
          ],
          "name": "stdout"
        },
        {
          "output_type": "display_data",
          "data": {
            "image/png": "[encoded data removed]",
            "text/plain": [
              "<Figure size 432x288 with 1 Axes>"
            ]
          },
          "metadata": {
            "tags": []
          }
        },
        {
          "output_type": "display_data",
          "data": {
            "image/png": "[encoded data removed]",
            "text/plain": [
              "<Figure size 432x288 with 1 Axes>"
            ]
          },
          "metadata": {
            "tags": []
          }
        }
      ]
    },
    {
      "cell_type": "markdown",
      "metadata": {
        "id": "O-aO8xZQU5da",
        "colab_type": "text"
      },
      "source": [
        "# Grad CAM Gallery"
      ]
    },
    {
      "cell_type": "code",
      "metadata": {
        "id": "GebqbHh0N1_-",
        "colab_type": "code",
        "colab": {
          "base_uri": "https://localhost:8080/",
          "height": 1000
        },
        "outputId": "629aafed-d8f1-4b65-a0e3-d09939a81811"
      },
      "source": [
        "list1 = []\n",
        "for i in range(0, 50):\n",
        "  print(\"Processed : \", i)\n",
        "  from skimage.transform import resize\n",
        "  def preprocess(x):\n",
        "      x = resize(x, (32,32), mode='constant') * 255\n",
        "      x = preprocess_input(x)\n",
        "      if x.ndim == 3:\n",
        "          x = np.expand_dims(x, 0)\n",
        "      return x\n",
        "#   print ('x_test[i] shape :', x_test[i].shape)\n",
        "  x_test_preprocess = preprocess(x_test[i])\n",
        "#   print ('x_test_preprocess :', x_test_preprocess.shape)\n",
        "  preds = model.predict(x_test_preprocess)\n",
        "#   print ('preds.shape :', preds.shape)\n",
        "\n",
        "\n",
        "  class_idx = np.argmax(preds[0])\n",
        "#   print(class_idx)\n",
        "  class_output = model.output[:, class_idx]\n",
        "#   print(class_output)\n",
        "\n",
        "  last_conv_layer = model.get_layer(\"zero_padding2d_51\")\n",
        "#   print(last_conv_layer)\n",
        "  grads = K.gradients(class_output, last_conv_layer.output)[0]\n",
        "  pooled_grads = K.mean(grads, axis=(0, 1, 2))\n",
        "\n",
        "  iterate = K.function([model.input], [pooled_grads, last_conv_layer.output[0]])\n",
        "  pooled_grads_value, conv_layer_output_value = iterate([x_test_preprocess])\n",
        "\n",
        "  for i_new in range(256):\n",
        "      conv_layer_output_value[:, :, i_new] *= pooled_grads_value[i_new]\n",
        "\n",
        "  heatmap = np.mean(conv_layer_output_value, axis=-1)\n",
        "  heatmap = np.maximum(heatmap, 0)\n",
        "  heatmap /= np.max(heatmap)\n",
        "\n",
        "  import cv2\n",
        "  import matplotlib.pyplot as plt\n",
        "\n",
        "  cv2.imwrite('color_img.jpg', x_test[i])\n",
        "  import os\n",
        "  img_path= os.path.join(os.getcwd(),'color_img.jpg')\n",
        "  img = cv2.imread(img_path)\n",
        "  # print(img)\n",
        "  # plt.imshow(img)\n",
        "  # plt.show()\n",
        "  # img = x_test[0]#cv2.imread(img_path)\n",
        "  heatmap = cv2.resize(heatmap, (img.shape[1], img.shape[0]))\n",
        "  heatmap = np.uint8(255 * heatmap)\n",
        "  heatmap = cv2.applyColorMap(heatmap, cv2.COLORMAP_JET)\n",
        "  print(heatmap.shape)\n",
        "  superimposed_img = cv2.addWeighted(img, 0.6, heatmap, 0.4, 0)\n",
        "  \n",
        "  list1.append(x_test[i])\n",
        "  list1.append(superimposed_img)\n",
        "print('process completed')\n",
        "#   plt.imshow(x_test[i])\n",
        "#   plt.show()\n",
        "#   plt.imshow( superimposed_img)\n",
        "#   plt.show()"
      ],
      "execution_count": 32,
      "outputs": [
        {
          "output_type": "stream",
          "text": [
            "Processed :  0\n",
            "(32, 32, 3)\n",
            "Processed :  1\n"
          ],
          "name": "stdout"
        },
        {
          "output_type": "stream",
          "text": [
            "/usr/local/lib/python3.6/dist-packages/ipykernel_launcher.py:36: RuntimeWarning: invalid value encountered in true_divide\n"
          ],
          "name": "stderr"
        },
        {
          "output_type": "stream",
          "text": [
            "(32, 32, 3)\n",
            "Processed :  2\n",
            "(32, 32, 3)\n",
            "Processed :  3\n",
            "(32, 32, 3)\n",
            "Processed :  4\n",
            "(32, 32, 3)\n",
            "Processed :  5\n",
            "(32, 32, 3)\n",
            "Processed :  6\n",
            "(32, 32, 3)\n",
            "Processed :  7\n",
            "(32, 32, 3)\n",
            "Processed :  8\n",
            "(32, 32, 3)\n",
            "Processed :  9\n",
            "(32, 32, 3)\n",
            "Processed :  10\n",
            "(32, 32, 3)\n",
            "Processed :  11\n",
            "(32, 32, 3)\n",
            "Processed :  12\n",
            "(32, 32, 3)\n",
            "Processed :  13\n",
            "(32, 32, 3)\n",
            "Processed :  14\n",
            "(32, 32, 3)\n",
            "Processed :  15\n",
            "(32, 32, 3)\n",
            "Processed :  16\n",
            "(32, 32, 3)\n",
            "Processed :  17\n",
            "(32, 32, 3)\n",
            "Processed :  18\n",
            "(32, 32, 3)\n",
            "Processed :  19\n",
            "(32, 32, 3)\n",
            "Processed :  20\n",
            "(32, 32, 3)\n",
            "Processed :  21\n",
            "(32, 32, 3)\n",
            "Processed :  22\n",
            "(32, 32, 3)\n",
            "Processed :  23\n",
            "(32, 32, 3)\n",
            "Processed :  24\n",
            "(32, 32, 3)\n",
            "Processed :  25\n",
            "(32, 32, 3)\n",
            "Processed :  26\n",
            "(32, 32, 3)\n",
            "Processed :  27\n",
            "(32, 32, 3)\n",
            "Processed :  28\n",
            "(32, 32, 3)\n",
            "Processed :  29\n",
            "(32, 32, 3)\n",
            "Processed :  30\n",
            "(32, 32, 3)\n",
            "Processed :  31\n",
            "(32, 32, 3)\n",
            "Processed :  32\n",
            "(32, 32, 3)\n",
            "Processed :  33\n",
            "(32, 32, 3)\n",
            "Processed :  34\n",
            "(32, 32, 3)\n",
            "Processed :  35\n",
            "(32, 32, 3)\n",
            "Processed :  36\n",
            "(32, 32, 3)\n",
            "Processed :  37\n",
            "(32, 32, 3)\n",
            "Processed :  38\n",
            "(32, 32, 3)\n",
            "Processed :  39\n",
            "(32, 32, 3)\n",
            "Processed :  40\n",
            "(32, 32, 3)\n",
            "Processed :  41\n",
            "(32, 32, 3)\n",
            "Processed :  42\n",
            "(32, 32, 3)\n",
            "Processed :  43\n",
            "(32, 32, 3)\n",
            "Processed :  44\n",
            "(32, 32, 3)\n",
            "Processed :  45\n",
            "(32, 32, 3)\n",
            "Processed :  46\n",
            "(32, 32, 3)\n",
            "Processed :  47\n",
            "(32, 32, 3)\n",
            "Processed :  48\n",
            "(32, 32, 3)\n",
            "Processed :  49\n",
            "(32, 32, 3)\n",
            "process completed\n"
          ],
          "name": "stdout"
        }
      ]
    },
    {
      "cell_type": "code",
      "metadata": {
        "id": "BxlWWql9SiK0",
        "colab_type": "code",
        "colab": {
          "base_uri": "https://localhost:8080/",
          "height": 34
        },
        "outputId": "d5c8ad5a-5848-4488-d1ab-6b08fb9f38ff"
      },
      "source": [
        "len(list1)"
      ],
      "execution_count": 30,
      "outputs": [
        {
          "output_type": "execute_result",
          "data": {
            "text/plain": [
              "100"
            ]
          },
          "metadata": {
            "tags": []
          },
          "execution_count": 30
        }
      ]
    },
    {
      "cell_type": "markdown",
      "metadata": {
        "id": "n6tniNo0U1CS",
        "colab_type": "text"
      },
      "source": [
        ""
      ]
    },
    {
      "cell_type": "code",
      "metadata": {
        "id": "umfpbRb8Q9cc",
        "colab_type": "code",
        "colab": {
          "base_uri": "https://localhost:8080/",
          "height": 1000
        },
        "outputId": "a0c276d6-11d6-4079-d746-394b752a5d17"
      },
      "source": [
        "import matplotlib.pyplot as plt\n",
        "cols = 10\n",
        "rows = 5\n",
        "num = 0\n",
        "fig = plt.figure(figsize=(2 * cols - 1, 3 * rows - 1))\n",
        "for i in range(cols):\n",
        "    for j in range(rows):\n",
        "      ax = fig.add_subplot(rows, cols, i * rows + j + 1)\n",
        "      ax.grid('off')\n",
        "      ax.axis('off')\n",
        "      ax.imshow(list1[num])\n",
        "      num = num + 1"
      ],
      "execution_count": 34,
      "outputs": [
        {
          "output_type": "stream",
          "text": [
            "/usr/local/lib/python3.6/dist-packages/matplotlib/cbook/__init__.py:424: MatplotlibDeprecationWarning: \n",
            "Passing one of 'on', 'true', 'off', 'false' as a boolean is deprecated; use an actual boolean (True/False) instead.\n",
            "  warn_deprecated(\"2.2\", \"Passing one of 'on', 'true', 'off', 'false' as a \"\n",
            "W0712 17:52:49.389429 140617974888320 image.py:648] Clipping input data to the valid range for imshow with RGB data ([0..1] for floats or [0..255] for integers).\n",
            "W0712 17:52:49.413007 140617974888320 image.py:648] Clipping input data to the valid range for imshow with RGB data ([0..1] for floats or [0..255] for integers).\n",
            "W0712 17:52:49.435780 140617974888320 image.py:648] Clipping input data to the valid range for imshow with RGB data ([0..1] for floats or [0..255] for integers).\n",
            "W0712 17:52:49.459826 140617974888320 image.py:648] Clipping input data to the valid range for imshow with RGB data ([0..1] for floats or [0..255] for integers).\n",
            "W0712 17:52:49.482554 140617974888320 image.py:648] Clipping input data to the valid range for imshow with RGB data ([0..1] for floats or [0..255] for integers).\n",
            "W0712 17:52:49.504961 140617974888320 image.py:648] Clipping input data to the valid range for imshow with RGB data ([0..1] for floats or [0..255] for integers).\n",
            "W0712 17:52:49.529727 140617974888320 image.py:648] Clipping input data to the valid range for imshow with RGB data ([0..1] for floats or [0..255] for integers).\n",
            "W0712 17:52:49.555371 140617974888320 image.py:648] Clipping input data to the valid range for imshow with RGB data ([0..1] for floats or [0..255] for integers).\n",
            "W0712 17:52:49.578091 140617974888320 image.py:648] Clipping input data to the valid range for imshow with RGB data ([0..1] for floats or [0..255] for integers).\n",
            "W0712 17:52:49.602597 140617974888320 image.py:648] Clipping input data to the valid range for imshow with RGB data ([0..1] for floats or [0..255] for integers).\n",
            "W0712 17:52:49.627939 140617974888320 image.py:648] Clipping input data to the valid range for imshow with RGB data ([0..1] for floats or [0..255] for integers).\n",
            "W0712 17:52:49.650766 140617974888320 image.py:648] Clipping input data to the valid range for imshow with RGB data ([0..1] for floats or [0..255] for integers).\n",
            "W0712 17:52:49.674688 140617974888320 image.py:648] Clipping input data to the valid range for imshow with RGB data ([0..1] for floats or [0..255] for integers).\n",
            "W0712 17:52:49.697955 140617974888320 image.py:648] Clipping input data to the valid range for imshow with RGB data ([0..1] for floats or [0..255] for integers).\n",
            "W0712 17:52:49.720598 140617974888320 image.py:648] Clipping input data to the valid range for imshow with RGB data ([0..1] for floats or [0..255] for integers).\n",
            "W0712 17:52:49.746713 140617974888320 image.py:648] Clipping input data to the valid range for imshow with RGB data ([0..1] for floats or [0..255] for integers).\n",
            "W0712 17:52:49.771820 140617974888320 image.py:648] Clipping input data to the valid range for imshow with RGB data ([0..1] for floats or [0..255] for integers).\n",
            "W0712 17:52:49.794455 140617974888320 image.py:648] Clipping input data to the valid range for imshow with RGB data ([0..1] for floats or [0..255] for integers).\n",
            "W0712 17:52:49.817596 140617974888320 image.py:648] Clipping input data to the valid range for imshow with RGB data ([0..1] for floats or [0..255] for integers).\n",
            "W0712 17:52:49.841126 140617974888320 image.py:648] Clipping input data to the valid range for imshow with RGB data ([0..1] for floats or [0..255] for integers).\n",
            "W0712 17:52:49.869478 140617974888320 image.py:648] Clipping input data to the valid range for imshow with RGB data ([0..1] for floats or [0..255] for integers).\n",
            "W0712 17:52:49.895956 140617974888320 image.py:648] Clipping input data to the valid range for imshow with RGB data ([0..1] for floats or [0..255] for integers).\n",
            "W0712 17:52:49.918775 140617974888320 image.py:648] Clipping input data to the valid range for imshow with RGB data ([0..1] for floats or [0..255] for integers).\n",
            "W0712 17:52:49.943077 140617974888320 image.py:648] Clipping input data to the valid range for imshow with RGB data ([0..1] for floats or [0..255] for integers).\n",
            "W0712 17:52:49.967861 140617974888320 image.py:648] Clipping input data to the valid range for imshow with RGB data ([0..1] for floats or [0..255] for integers).\n"
          ],
          "name": "stderr"
        },
        {
          "output_type": "display_data",
          "data": {
            "image/png": "[encoded data removed]",
            "text/plain": [
              "<Figure size 1368x1008 with 50 Axes>"
            ]
          },
          "metadata": {
            "tags": []
          }
        }
      ]
    },
    {
      "cell_type": "code",
      "metadata": {
        "id": "OtQkBeAzRrpW",
        "colab_type": "code",
        "colab": {}
      },
      "source": [
        ""
      ],
      "execution_count": 0,
      "outputs": []
    }
  ]
}